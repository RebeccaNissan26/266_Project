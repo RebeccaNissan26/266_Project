{
  "nbformat": 4,
  "nbformat_minor": 0,
  "metadata": {
    "colab": {
      "provenance": []
    },
    "kernelspec": {
      "name": "python3",
      "display_name": "Python 3"
    },
    "language_info": {
      "name": "python"
    }
  },
  "cells": [
    {
      "cell_type": "markdown",
      "source": [
        "TRAINING\n",
        "\n",
        "This notebook finetunes T5 for summarization of BillSum documents. Pull in train / valid data (which was created in the load data notebook) and then follow the Low Ram guidelines from class notebook to train the model without Colab crashing. Save model weights to drive so we can access them for inference."
      ],
      "metadata": {
        "id": "U7zsPjzB8RSE"
      }
    },
    {
      "cell_type": "code",
      "source": [
        "# mount to colab\n",
        "from google.colab import drive\n",
        "drive.mount('/content/drive')"
      ],
      "metadata": {
        "id": "7jukb0dWLbuD",
        "colab": {
          "base_uri": "https://localhost:8080/"
        },
        "outputId": "1093d914-2809-45c7-de39-be48295a21aa"
      },
      "execution_count": null,
      "outputs": [
        {
          "output_type": "stream",
          "name": "stdout",
          "text": [
            "Mounted at /content/drive\n"
          ]
        }
      ]
    },
    {
      "cell_type": "code",
      "source": [
        "!pip install datasets\n",
        "!pip install transformers\n",
        "!pip install sentencepiece"
      ],
      "metadata": {
        "id": "knCCS-_Wlok5",
        "colab": {
          "base_uri": "https://localhost:8080/"
        },
        "outputId": "fd289d90-13e8-4f14-aac7-6cedd1422d88"
      },
      "execution_count": null,
      "outputs": [
        {
          "output_type": "stream",
          "name": "stdout",
          "text": [
            "Installing collected packages: sentencepiece\n",
            "Successfully installed sentencepiece-0.1.99\n"
          ]
        }
      ]
    },
    {
      "cell_type": "code",
      "source": [
        "import os\n",
        "import re\n",
        "import numpy as np\n",
        "import pandas as pd\n",
        "\n",
        "import tensorflow as tf\n",
        "from tensorflow import keras\n",
        "from tensorflow.keras import layers\n",
        "\n",
        "from transformers import AutoTokenizer  , TFAutoModel\n",
        "from transformers import T5Tokenizer, TFT5ForConditionalGeneration\n",
        "from pprint import pprint"
      ],
      "metadata": {
        "id": "LPqkkUHVOfnO"
      },
      "execution_count": null,
      "outputs": []
    },
    {
      "cell_type": "code",
      "execution_count": null,
      "metadata": {
        "id": "7MRqbWRXLDnK"
      },
      "outputs": [],
      "source": [
        "# load in training and valid data\n",
        "train_file = \"drive/MyDrive/266project/billsum_train.csv\"\n",
        "valid_file = \"drive/MyDrive/266project/billsum_valid.csv\"\n",
        "\n",
        "train_data = pd.read_csv(train_file)\n",
        "valid_data = pd.read_csv(valid_file)"
      ]
    },
    {
      "cell_type": "code",
      "source": [
        "#train_data\n",
        "train_data.drop('Unnamed: 0', axis = 1)\n",
        "valid_data.drop('Unnamed: 0', axis = 1)\n"
      ],
      "metadata": {
        "id": "gjH4wTSLMKO6",
        "colab": {
          "base_uri": "https://localhost:8080/",
          "height": 424
        },
        "outputId": "929e6115-f7a7-424c-b7a5-ecc1bc237844"
      },
      "execution_count": null,
      "outputs": [
        {
          "output_type": "execute_result",
          "data": {
            "text/plain": [
              "                                                   orig  \\\n",
              "0     SECTION 1. ENVIRONMENTAL INFRASTRUCTURE.\\n\\n  ...   \n",
              "1     That this Act may be cited as the ``Federal Fo...   \n",
              "2     SECTION 1. SHORT TITLE.\\n\\n    This Act may be...   \n",
              "3     SECTION 1. SHORT TITLE.\\n\\n    This Act may be...   \n",
              "4     SECTION 1. SHORT TITLE.\\n\\n    This Act may be...   \n",
              "...                                                 ...   \n",
              "3264  SECTION 1. PLACEMENT PROGRAMS FOR FEDERAL EMPL...   \n",
              "3265  SECTION 1. SHORT TITLE.\\n\\n    This Act may be...   \n",
              "3266  SECTION 1. SHORT TITLE.\\n\\n    This Act may be...   \n",
              "3267  SECTION 1. SHORT TITLE.\\n\\n    This Act may be...   \n",
              "3268  SECTION 1. SHORT TITLE.\\n\\n    This Act may be...   \n",
              "\n",
              "                                                 target  \\\n",
              "0     Amends the Water Resources Development Act of ...   \n",
              "1     Federal Forage Fee Act of 1993 - Subjects graz...   \n",
              "2     .  Merchant Marine of World War II Congression...   \n",
              "3     Small Business Modernization Act of 2004 - Ame...   \n",
              "4     Fair Access to Investment Research Act of 2016...   \n",
              "...                                                 ...   \n",
              "3264  Public Servant Priority Placement Act of 1995 ...   \n",
              "3265  Sportsmanship in Hunting Act of 2008 - Amends ...   \n",
              "3266  Helping College Students Cross the Finish Line...   \n",
              "3267  Makes proceeds from such conveyances available...   \n",
              "3268  Federal Power Asset Privatization Act of 1995 ...   \n",
              "\n",
              "                                                  title  \n",
              "0     To make technical corrections to the Water Res...  \n",
              "1                        Federal Forage Fee Act of 1993  \n",
              "2     Merchant Marine of World War II Congressional ...  \n",
              "3     To amend the Internal Revenue Code of 1986 to ...  \n",
              "4        Fair Access to Investment Research Act of 2016  \n",
              "...                                                 ...  \n",
              "3264      Public Servant Priority Placement Act of 1995  \n",
              "3265  A bill to amend title 18, United States Code, ...  \n",
              "3266  Helping College Students Cross the Finish Line...  \n",
              "3267     Texas National Forests Improvement Act of 2000  \n",
              "3268      Federal Power Asset Privatization Act of 1995  \n",
              "\n",
              "[3269 rows x 3 columns]"
            ],
            "text/html": [
              "\n",
              "\n",
              "  <div id=\"df-f8bed44a-fd59-430c-96ab-ba6df034c2b7\">\n",
              "    <div class=\"colab-df-container\">\n",
              "      <div>\n",
              "<style scoped>\n",
              "    .dataframe tbody tr th:only-of-type {\n",
              "        vertical-align: middle;\n",
              "    }\n",
              "\n",
              "    .dataframe tbody tr th {\n",
              "        vertical-align: top;\n",
              "    }\n",
              "\n",
              "    .dataframe thead th {\n",
              "        text-align: right;\n",
              "    }\n",
              "</style>\n",
              "<table border=\"1\" class=\"dataframe\">\n",
              "  <thead>\n",
              "    <tr style=\"text-align: right;\">\n",
              "      <th></th>\n",
              "      <th>orig</th>\n",
              "      <th>target</th>\n",
              "      <th>title</th>\n",
              "    </tr>\n",
              "  </thead>\n",
              "  <tbody>\n",
              "    <tr>\n",
              "      <th>0</th>\n",
              "      <td>SECTION 1. ENVIRONMENTAL INFRASTRUCTURE.\\n\\n  ...</td>\n",
              "      <td>Amends the Water Resources Development Act of ...</td>\n",
              "      <td>To make technical corrections to the Water Res...</td>\n",
              "    </tr>\n",
              "    <tr>\n",
              "      <th>1</th>\n",
              "      <td>That this Act may be cited as the ``Federal Fo...</td>\n",
              "      <td>Federal Forage Fee Act of 1993 - Subjects graz...</td>\n",
              "      <td>Federal Forage Fee Act of 1993</td>\n",
              "    </tr>\n",
              "    <tr>\n",
              "      <th>2</th>\n",
              "      <td>SECTION 1. SHORT TITLE.\\n\\n    This Act may be...</td>\n",
              "      <td>.  Merchant Marine of World War II Congression...</td>\n",
              "      <td>Merchant Marine of World War II Congressional ...</td>\n",
              "    </tr>\n",
              "    <tr>\n",
              "      <th>3</th>\n",
              "      <td>SECTION 1. SHORT TITLE.\\n\\n    This Act may be...</td>\n",
              "      <td>Small Business Modernization Act of 2004 - Ame...</td>\n",
              "      <td>To amend the Internal Revenue Code of 1986 to ...</td>\n",
              "    </tr>\n",
              "    <tr>\n",
              "      <th>4</th>\n",
              "      <td>SECTION 1. SHORT TITLE.\\n\\n    This Act may be...</td>\n",
              "      <td>Fair Access to Investment Research Act of 2016...</td>\n",
              "      <td>Fair Access to Investment Research Act of 2016</td>\n",
              "    </tr>\n",
              "    <tr>\n",
              "      <th>...</th>\n",
              "      <td>...</td>\n",
              "      <td>...</td>\n",
              "      <td>...</td>\n",
              "    </tr>\n",
              "    <tr>\n",
              "      <th>3264</th>\n",
              "      <td>SECTION 1. PLACEMENT PROGRAMS FOR FEDERAL EMPL...</td>\n",
              "      <td>Public Servant Priority Placement Act of 1995 ...</td>\n",
              "      <td>Public Servant Priority Placement Act of 1995</td>\n",
              "    </tr>\n",
              "    <tr>\n",
              "      <th>3265</th>\n",
              "      <td>SECTION 1. SHORT TITLE.\\n\\n    This Act may be...</td>\n",
              "      <td>Sportsmanship in Hunting Act of 2008 - Amends ...</td>\n",
              "      <td>A bill to amend title 18, United States Code, ...</td>\n",
              "    </tr>\n",
              "    <tr>\n",
              "      <th>3266</th>\n",
              "      <td>SECTION 1. SHORT TITLE.\\n\\n    This Act may be...</td>\n",
              "      <td>Helping College Students Cross the Finish Line...</td>\n",
              "      <td>Helping College Students Cross the Finish Line...</td>\n",
              "    </tr>\n",
              "    <tr>\n",
              "      <th>3267</th>\n",
              "      <td>SECTION 1. SHORT TITLE.\\n\\n    This Act may be...</td>\n",
              "      <td>Makes proceeds from such conveyances available...</td>\n",
              "      <td>Texas National Forests Improvement Act of 2000</td>\n",
              "    </tr>\n",
              "    <tr>\n",
              "      <th>3268</th>\n",
              "      <td>SECTION 1. SHORT TITLE.\\n\\n    This Act may be...</td>\n",
              "      <td>Federal Power Asset Privatization Act of 1995 ...</td>\n",
              "      <td>Federal Power Asset Privatization Act of 1995</td>\n",
              "    </tr>\n",
              "  </tbody>\n",
              "</table>\n",
              "<p>3269 rows × 3 columns</p>\n",
              "</div>\n",
              "      <button class=\"colab-df-convert\" onclick=\"convertToInteractive('df-f8bed44a-fd59-430c-96ab-ba6df034c2b7')\"\n",
              "              title=\"Convert this dataframe to an interactive table.\"\n",
              "              style=\"display:none;\">\n",
              "\n",
              "  <svg xmlns=\"http://www.w3.org/2000/svg\" height=\"24px\"viewBox=\"0 0 24 24\"\n",
              "       width=\"24px\">\n",
              "    <path d=\"M0 0h24v24H0V0z\" fill=\"none\"/>\n",
              "    <path d=\"M18.56 5.44l.94 2.06.94-2.06 2.06-.94-2.06-.94-.94-2.06-.94 2.06-2.06.94zm-11 1L8.5 8.5l.94-2.06 2.06-.94-2.06-.94L8.5 2.5l-.94 2.06-2.06.94zm10 10l.94 2.06.94-2.06 2.06-.94-2.06-.94-.94-2.06-.94 2.06-2.06.94z\"/><path d=\"M17.41 7.96l-1.37-1.37c-.4-.4-.92-.59-1.43-.59-.52 0-1.04.2-1.43.59L10.3 9.45l-7.72 7.72c-.78.78-.78 2.05 0 2.83L4 21.41c.39.39.9.59 1.41.59.51 0 1.02-.2 1.41-.59l7.78-7.78 2.81-2.81c.8-.78.8-2.07 0-2.86zM5.41 20L4 18.59l7.72-7.72 1.47 1.35L5.41 20z\"/>\n",
              "  </svg>\n",
              "      </button>\n",
              "\n",
              "\n",
              "\n",
              "    <div id=\"df-a0035cc8-ca01-4a97-a95c-d6be4b55b071\">\n",
              "      <button class=\"colab-df-quickchart\" onclick=\"quickchart('df-a0035cc8-ca01-4a97-a95c-d6be4b55b071')\"\n",
              "              title=\"Suggest charts.\"\n",
              "              style=\"display:none;\">\n",
              "\n",
              "<svg xmlns=\"http://www.w3.org/2000/svg\" height=\"24px\"viewBox=\"0 0 24 24\"\n",
              "     width=\"24px\">\n",
              "    <g>\n",
              "        <path d=\"M19 3H5c-1.1 0-2 .9-2 2v14c0 1.1.9 2 2 2h14c1.1 0 2-.9 2-2V5c0-1.1-.9-2-2-2zM9 17H7v-7h2v7zm4 0h-2V7h2v10zm4 0h-2v-4h2v4z\"/>\n",
              "    </g>\n",
              "</svg>\n",
              "      </button>\n",
              "    </div>\n",
              "\n",
              "<style>\n",
              "  .colab-df-quickchart {\n",
              "    background-color: #E8F0FE;\n",
              "    border: none;\n",
              "    border-radius: 50%;\n",
              "    cursor: pointer;\n",
              "    display: none;\n",
              "    fill: #1967D2;\n",
              "    height: 32px;\n",
              "    padding: 0 0 0 0;\n",
              "    width: 32px;\n",
              "  }\n",
              "\n",
              "  .colab-df-quickchart:hover {\n",
              "    background-color: #E2EBFA;\n",
              "    box-shadow: 0px 1px 2px rgba(60, 64, 67, 0.3), 0px 1px 3px 1px rgba(60, 64, 67, 0.15);\n",
              "    fill: #174EA6;\n",
              "  }\n",
              "\n",
              "  [theme=dark] .colab-df-quickchart {\n",
              "    background-color: #3B4455;\n",
              "    fill: #D2E3FC;\n",
              "  }\n",
              "\n",
              "  [theme=dark] .colab-df-quickchart:hover {\n",
              "    background-color: #434B5C;\n",
              "    box-shadow: 0px 1px 3px 1px rgba(0, 0, 0, 0.15);\n",
              "    filter: drop-shadow(0px 1px 2px rgba(0, 0, 0, 0.3));\n",
              "    fill: #FFFFFF;\n",
              "  }\n",
              "</style>\n",
              "\n",
              "    <script>\n",
              "      async function quickchart(key) {\n",
              "        const containerElement = document.querySelector('#' + key);\n",
              "        const charts = await google.colab.kernel.invokeFunction(\n",
              "            'suggestCharts', [key], {});\n",
              "      }\n",
              "    </script>\n",
              "\n",
              "      <script>\n",
              "\n",
              "function displayQuickchartButton(domScope) {\n",
              "  let quickchartButtonEl =\n",
              "    domScope.querySelector('#df-a0035cc8-ca01-4a97-a95c-d6be4b55b071 button.colab-df-quickchart');\n",
              "  quickchartButtonEl.style.display =\n",
              "    google.colab.kernel.accessAllowed ? 'block' : 'none';\n",
              "}\n",
              "\n",
              "        displayQuickchartButton(document);\n",
              "      </script>\n",
              "      <style>\n",
              "    .colab-df-container {\n",
              "      display:flex;\n",
              "      flex-wrap:wrap;\n",
              "      gap: 12px;\n",
              "    }\n",
              "\n",
              "    .colab-df-convert {\n",
              "      background-color: #E8F0FE;\n",
              "      border: none;\n",
              "      border-radius: 50%;\n",
              "      cursor: pointer;\n",
              "      display: none;\n",
              "      fill: #1967D2;\n",
              "      height: 32px;\n",
              "      padding: 0 0 0 0;\n",
              "      width: 32px;\n",
              "    }\n",
              "\n",
              "    .colab-df-convert:hover {\n",
              "      background-color: #E2EBFA;\n",
              "      box-shadow: 0px 1px 2px rgba(60, 64, 67, 0.3), 0px 1px 3px 1px rgba(60, 64, 67, 0.15);\n",
              "      fill: #174EA6;\n",
              "    }\n",
              "\n",
              "    [theme=dark] .colab-df-convert {\n",
              "      background-color: #3B4455;\n",
              "      fill: #D2E3FC;\n",
              "    }\n",
              "\n",
              "    [theme=dark] .colab-df-convert:hover {\n",
              "      background-color: #434B5C;\n",
              "      box-shadow: 0px 1px 3px 1px rgba(0, 0, 0, 0.15);\n",
              "      filter: drop-shadow(0px 1px 2px rgba(0, 0, 0, 0.3));\n",
              "      fill: #FFFFFF;\n",
              "    }\n",
              "  </style>\n",
              "\n",
              "      <script>\n",
              "        const buttonEl =\n",
              "          document.querySelector('#df-f8bed44a-fd59-430c-96ab-ba6df034c2b7 button.colab-df-convert');\n",
              "        buttonEl.style.display =\n",
              "          google.colab.kernel.accessAllowed ? 'block' : 'none';\n",
              "\n",
              "        async function convertToInteractive(key) {\n",
              "          const element = document.querySelector('#df-f8bed44a-fd59-430c-96ab-ba6df034c2b7');\n",
              "          const dataTable =\n",
              "            await google.colab.kernel.invokeFunction('convertToInteractive',\n",
              "                                                     [key], {});\n",
              "          if (!dataTable) return;\n",
              "\n",
              "          const docLinkHtml = 'Like what you see? Visit the ' +\n",
              "            '<a target=\"_blank\" href=https://colab.research.google.com/notebooks/data_table.ipynb>data table notebook</a>'\n",
              "            + ' to learn more about interactive tables.';\n",
              "          element.innerHTML = '';\n",
              "          dataTable['output_type'] = 'display_data';\n",
              "          await google.colab.output.renderOutput(dataTable, element);\n",
              "          const docLink = document.createElement('div');\n",
              "          docLink.innerHTML = docLinkHtml;\n",
              "          element.appendChild(docLink);\n",
              "        }\n",
              "      </script>\n",
              "    </div>\n",
              "  </div>\n"
            ]
          },
          "metadata": {},
          "execution_count": 8
        }
      ]
    },
    {
      "cell_type": "code",
      "source": [
        "# preprocess function\n",
        "max_length = 168\n",
        "prefix = 'summarize: '\n",
        "\n",
        "def preprocess_data(text_pairs, tokenizer, model, max_length= max_length):\n",
        "    orig_text = [prefix + orig for orig, target in text_pairs]\n",
        "    orig_encoded = tokenizer.batch_encode_plus(\n",
        "        orig_text,\n",
        "        max_length=max_length,\n",
        "        padding='max_length',\n",
        "        truncation=True,\n",
        "        return_attention_mask=True,\n",
        "        return_tensors='tf'\n",
        "    )\n",
        "\n",
        "    orig_input_ids = np.array(orig_encoded[\"input_ids\"], dtype=\"int32\")\n",
        "    orig_attention_masks = np.array(orig_encoded[\"attention_mask\"], dtype=\"int32\")\n",
        "\n",
        "    target_text = [target for orig, target in text_pairs]\n",
        "    target_encoded = tokenizer.batch_encode_plus(\n",
        "        target_text,\n",
        "        max_length=max_length,\n",
        "        padding='max_length',\n",
        "        truncation=True,\n",
        "        return_tensors='tf'\n",
        "    )\n",
        "\n",
        "    label_ids = np.array(target_encoded['input_ids'])\n",
        "    decoder_input_ids = model._shift_right(label_ids)\n",
        "\n",
        "    return [orig_input_ids, orig_attention_masks, decoder_input_ids], label_ids\n",
        "\n",
        "####################\n"
      ],
      "metadata": {
        "id": "Dt3C2WYxLq4X"
      },
      "execution_count": null,
      "outputs": []
    },
    {
      "cell_type": "code",
      "source": [
        "\n",
        "class DataGenerator(tf.keras.utils.Sequence):\n",
        "\n",
        "    def __init__(self,\n",
        "                 tokenizer,\n",
        "                 model,\n",
        "                 n_examples,\n",
        "                 data_filename,\n",
        "                 max_length=128,\n",
        "                 batch_size=16,\n",
        "                 shuffle=True):\n",
        "\n",
        "        self.tokenizer = tokenizer\n",
        "        self.model = model\n",
        "        self.n_examples = n_examples\n",
        "        self.data_filename = data_filename\n",
        "        self.max_length = max_length\n",
        "        self.batch_size = batch_size\n",
        "        self.shuffle = shuffle\n",
        "\n",
        "        # Initialize row order, call on_epoch_end to shuffle row indices\n",
        "        self.row_order = np.arange(1, self.n_examples+1)\n",
        "        self.on_epoch_end()\n",
        "\n",
        "    def __len__(self):\n",
        "        # Return the number of batches in the full dataset\n",
        "        return self.n_examples // self.batch_size\n",
        "\n",
        "    def __getitem__(self, idx):\n",
        "        batch_start = idx * self.batch_size\n",
        "        batch_end = (idx + 1) * self.batch_size\n",
        "\n",
        "        # Indices to skip are the ones in the shuffled row_order before and\n",
        "        # after the chunk we'll use for this batch\n",
        "        batch_idx_skip = self.row_order[:batch_start] + self.row_order[batch_end:]\n",
        "        df = pd.read_csv(self.data_filename, skiprows=batch_idx_skip)\n",
        "\n",
        "        text_pairs = df[['orig', 'target']].values.astype(str).tolist()\n",
        "\n",
        "        batch_data = preprocess_data(\n",
        "            text_pairs,\n",
        "            self.tokenizer,\n",
        "            self.model,\n",
        "            self.max_length\n",
        "        )\n",
        "\n",
        "        return batch_data\n",
        "\n",
        "    def __call__(self):\n",
        "        for i in range(self.__len__()):\n",
        "            yield self.__getitem__(i)\n",
        "\n",
        "            if i == self.__len__()-1:\n",
        "                self.on_epoch_end()\n",
        "\n",
        "    def on_epoch_end(self):\n",
        "        if self.shuffle:\n",
        "            self.row_order = list(np.random.permutation(self.row_order))\n"
      ],
      "metadata": {
        "id": "_8an2TQkkIqT"
      },
      "execution_count": null,
      "outputs": []
    },
    {
      "cell_type": "code",
      "source": [
        "model_name = 't5-base'\n",
        "tokenizer = AutoTokenizer.from_pretrained(model_name)\n",
        "t5_model = TFT5ForConditionalGeneration.from_pretrained(model_name)"
      ],
      "metadata": {
        "colab": {
          "base_uri": "https://localhost:8080/"
        },
        "id": "C8ZIUqoqkkYe",
        "outputId": "42350e55-0f7a-49e8-d434-edd4de0a8d7c"
      },
      "execution_count": null,
      "outputs": [
        {
          "output_type": "stream",
          "name": "stderr",
          "text": [
            "/usr/local/lib/python3.10/dist-packages/transformers/models/t5/tokenization_t5_fast.py:155: FutureWarning: This tokenizer was incorrectly instantiated with a model max length of 512 which will be corrected in Transformers v5.\n",
            "For now, this behavior is kept to avoid breaking backwards compatibility when padding/encoding with `truncation is True`.\n",
            "- Be aware that you SHOULD NOT rely on t5-base automatically truncating your input to 512 when padding/encoding.\n",
            "- If you want to encode/pad to sequences longer than 512 you can either instantiate this tokenizer with `model_max_length` or pass `max_length` when encoding/padding.\n",
            "- To avoid this warning, please instantiate this tokenizer with `model_max_length` set to your preferred value.\n",
            "  warnings.warn(\n",
            "All PyTorch model weights were used when initializing TFT5ForConditionalGeneration.\n",
            "\n",
            "All the weights of TFT5ForConditionalGeneration were initialized from the PyTorch model.\n",
            "If your task is similar to the task the model of the checkpoint was trained on, you can already use TFT5ForConditionalGeneration for predictions without further training.\n"
          ]
        }
      ]
    },
    {
      "cell_type": "code",
      "source": [
        "batch_size = 8\n",
        "\n",
        "train_data_generator = DataGenerator(\n",
        "    tokenizer=tokenizer,\n",
        "    model=t5_model,\n",
        "    n_examples=len(train_data),\n",
        "    data_filename=train_file,\n",
        "    max_length=max_length,\n",
        "    batch_size=batch_size\n",
        ")\n",
        "\n",
        "valid_data_generator = DataGenerator(\n",
        "    tokenizer=tokenizer,\n",
        "    model=t5_model,\n",
        "    n_examples=len(valid_data),\n",
        "    data_filename=valid_file,\n",
        "    max_length=max_length,\n",
        "    batch_size=batch_size\n",
        ")"
      ],
      "metadata": {
        "id": "aAy_nElCkqG-"
      },
      "execution_count": null,
      "outputs": []
    },
    {
      "cell_type": "code",
      "source": [
        "def build_t5_training_wrapper_model(my_t5, max_length):\n",
        "    input_ids = layers.Input(shape=(max_length), dtype=tf.int32, name='input_ids')\n",
        "    attention_mask = layers.Input(shape=(max_length), dtype=tf.int32, name='attention_mask')\n",
        "    decoder_input_ids = layers.Input(shape=(max_length), dtype=tf.int32, name='labels')\n",
        "\n",
        "    t5_logits = my_t5(input_ids, attention_mask=attention_mask, decoder_input_ids=decoder_input_ids)[0]\n",
        "\n",
        "    model = tf.keras.models.Model(inputs=[input_ids, attention_mask, decoder_input_ids],\n",
        "                                  outputs=[t5_logits])\n",
        "    model.compile(optimizer=tf.keras.optimizers.Adam(),\n",
        "                  loss=tf.losses.SparseCategoricalCrossentropy(from_logits=True))\n",
        "\n",
        "    return model"
      ],
      "metadata": {
        "id": "CpJDGCuZku5c"
      },
      "execution_count": null,
      "outputs": []
    },
    {
      "cell_type": "code",
      "source": [
        "model_wrapper = build_t5_training_wrapper_model(t5_model, max_length)"
      ],
      "metadata": {
        "id": "9CZI4hR1kw17"
      },
      "execution_count": null,
      "outputs": []
    },
    {
      "cell_type": "code",
      "source": [
        "checkpoint_dir = 'drive/MyDrive/266project/model_checkpoints/'\n",
        "checkpoint_filepath = checkpoint_dir + 't5_billsum_weights.{epoch:02d}.hdf5'\n",
        "model_checkpoint_callback = tf.keras.callbacks.ModelCheckpoint(\n",
        "    filepath=checkpoint_filepath,\n",
        "    save_weights_only=True)"
      ],
      "metadata": {
        "id": "7gsatFY9kzFK"
      },
      "execution_count": null,
      "outputs": []
    },
    {
      "cell_type": "code",
      "source": [
        "model_wrapper.fit(x = train_data_generator,\n",
        "                  validation_data=valid_data_generator,\n",
        "                  epochs=3,\n",
        "                  callbacks=[model_checkpoint_callback])"
      ],
      "metadata": {
        "id": "IlApCymZk1y1"
      },
      "execution_count": null,
      "outputs": []
    },
    {
      "cell_type": "code",
      "source": [
        "# check that it works to load model weights\n",
        "model_wrapper.load_weights(checkpoint_dir + 't5_billsum_weights.03.hdf5')"
      ],
      "metadata": {
        "id": "tpCdCZCDk3sW"
      },
      "execution_count": null,
      "outputs": []
    }
  ]
}