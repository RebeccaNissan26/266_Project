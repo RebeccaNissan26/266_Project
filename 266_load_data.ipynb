{
  "nbformat": 4,
  "nbformat_minor": 0,
  "metadata": {
    "colab": {
      "provenance": [],
      "machine_shape": "hm",
      "gpuType": "A100"
    },
    "kernelspec": {
      "name": "python3",
      "display_name": "Python 3"
    },
    "language_info": {
      "name": "python"
    }
  },
  "cells": [
    {
      "cell_type": "markdown",
      "source": [
        "NOTEBOOK OVERVIEW:\n",
        "\n",
        "LOAD DATA: This notebook gets the BillSum dataset from HuggingFace, splits the pre-specified \"training\" set into training validation sets, and maintains BillSum's 3000+ row \"test\" set as an unseen holdout set.\n",
        "\n",
        "EDA: We do a quick EDA to show the average length of inputs, which becomes important for understanding model performance later in the project.\n",
        "\n",
        "BASIC PRE-PROCESSING: Finally, we get the data into the right format for training by creating pairs of Orig/Target. The data can then be loaded from drive into other notebooks for training and inference / text generation."
      ],
      "metadata": {
        "id": "W06PTuqIDR2l"
      }
    },
    {
      "cell_type": "code",
      "execution_count": null,
      "metadata": {
        "colab": {
          "base_uri": "https://localhost:8080/"
        },
        "id": "wa6L6rcu2WJJ",
        "outputId": "e32ca996-457a-41f7-d135-8a04a94772ee"
      },
      "outputs": [
        {
          "output_type": "stream",
          "name": "stdout",
          "text": [
            "Mounted at /content/drive\n"
          ]
        }
      ],
      "source": [
        "# mount to colab\n",
        "from google.colab import drive\n",
        "drive.mount('/content/drive')"
      ]
    },
    {
      "cell_type": "code",
      "source": [
        "!pip install datasets\n",
        "!pip install transformers\n",
        "!pip install sentencepiece"
      ],
      "metadata": {
        "id": "7cdyYOJd2c4N"
      },
      "execution_count": null,
      "outputs": []
    },
    {
      "cell_type": "code",
      "source": [
        "import tensorflow as tf\n",
        "from tensorflow import keras\n",
        "from tensorflow.keras import layers\n",
        "\n",
        "from transformers import AutoTokenizer  , TFAutoModel\n",
        "from transformers import T5Tokenizer, TFT5ForConditionalGeneration"
      ],
      "metadata": {
        "id": "ST2k8hfpIBWp"
      },
      "execution_count": null,
      "outputs": []
    },
    {
      "cell_type": "code",
      "source": [
        "import pandas as pd\n",
        "from datasets import load_dataset\n",
        "from datasets import get_dataset_split_names\n",
        "from datasets import DatasetDict\n",
        "\n",
        "print(get_dataset_split_names('billsum'))\n",
        "# billsum will be the train + valid set (split it below after loading)\n",
        "# billsum_test is holdout unseen test set\n",
        "billsum = load_dataset(\"billsum\",split = 'train')\n",
        "billsum_test = load_dataset(\"billsum\",split = 'test')\n",
        "\n",
        "billsum = billsum.train_test_split(test_size=0.2) # split the train data in 2 for train/valid"
      ],
      "metadata": {
        "id": "lwPE5VSk217t"
      },
      "execution_count": null,
      "outputs": []
    },
    {
      "cell_type": "code",
      "source": [
        "billsum.keys()"
      ],
      "metadata": {
        "colab": {
          "base_uri": "https://localhost:8080/"
        },
        "id": "SZ-o7e8n7Vn6",
        "outputId": "9f81c36b-d8b6-4ca2-b908-c02928c959ec"
      },
      "execution_count": null,
      "outputs": [
        {
          "output_type": "execute_result",
          "data": {
            "text/plain": [
              "dict_keys(['train', 'test'])"
            ]
          },
          "metadata": {},
          "execution_count": 16
        }
      ]
    },
    {
      "cell_type": "code",
      "source": [
        "billsum_train = billsum['train']\n",
        "billsum_valid = billsum['test'] # the \"test\" data from the split train data becomes the valid set"
      ],
      "metadata": {
        "id": "9NJlcq8P7UHB"
      },
      "execution_count": null,
      "outputs": []
    },
    {
      "cell_type": "code",
      "source": [
        "print(billsum_train.shape)\n",
        "print(billsum_valid.shape)\n",
        "print(billsum_test.shape)\n",
        "print(billsum_train.column_names)"
      ],
      "metadata": {
        "colab": {
          "base_uri": "https://localhost:8080/"
        },
        "id": "TkUyVryQ3pQg",
        "outputId": "1b050979-64a5-4bb1-93a4-8aa0da69f534"
      },
      "execution_count": null,
      "outputs": [
        {
          "output_type": "stream",
          "name": "stdout",
          "text": [
            "(15159, 3)\n",
            "(3790, 3)\n",
            "(3269, 3)\n",
            "['text', 'summary', 'title']\n"
          ]
        }
      ]
    },
    {
      "cell_type": "code",
      "source": [
        "# add some eda here - what is the average length of the orig text?\n",
        "import matplotlib.pyplot as plt\n",
        "\n",
        "text_lengths_in_chars = [] # training set\n",
        "text_lengths_in_words = [] # training set\n",
        "for text in billsum_train['text']:\n",
        "  text_lengths_in_chars.append(len(text))\n",
        "  split_text = text.split()\n",
        "  text_lengths_in_words.append(len(split_text))\n",
        "plt.hist(text_lengths_in_chars, bins = 20)\n",
        "plt.xlim(xmin=5000, xmax = 20000)\n",
        "# bills with 5,000 to 20,000 characters are included by authors of dataset"
      ],
      "metadata": {
        "colab": {
          "base_uri": "https://localhost:8080/",
          "height": 448
        },
        "id": "pD3Do00e9Kxw",
        "outputId": "fdc1a48a-d80b-490d-ac68-d8451ecf4a2e"
      },
      "execution_count": null,
      "outputs": [
        {
          "output_type": "execute_result",
          "data": {
            "text/plain": [
              "(5000.0, 20000.0)"
            ]
          },
          "metadata": {},
          "execution_count": 41
        },
        {
          "output_type": "display_data",
          "data": {
            "text/plain": [
              "<Figure size 640x480 with 1 Axes>"
            ],
            "image/png": "[encoded data removed]"
          },
          "metadata": {}
        }
      ]
    },
    {
      "cell_type": "code",
      "source": [
        "plt.hist(text_lengths_in_words, bins = 15)\n"
      ],
      "metadata": {
        "colab": {
          "base_uri": "https://localhost:8080/",
          "height": 555
        },
        "id": "zyc5H16WAYxX",
        "outputId": "c72a8f16-31d8-4213-aadb-4a408f13362c"
      },
      "execution_count": null,
      "outputs": [
        {
          "output_type": "execute_result",
          "data": {
            "text/plain": [
              "(array([  23.,  177., 2171., 2821., 2244., 1768., 1418., 1225., 1050.,\n",
              "         855.,  672.,  449.,  225.,   52.,    9.]),\n",
              " array([ 194.        ,  384.73333333,  575.46666667,  766.2       ,\n",
              "         956.93333333, 1147.66666667, 1338.4       , 1529.13333333,\n",
              "        1719.86666667, 1910.6       , 2101.33333333, 2292.06666667,\n",
              "        2482.8       , 2673.53333333, 2864.26666667, 3055.        ]),\n",
              " <BarContainer object of 15 artists>)"
            ]
          },
          "metadata": {},
          "execution_count": 40
        },
        {
          "output_type": "display_data",
          "data": {
            "text/plain": [
              "<Figure size 640x480 with 1 Axes>"
            ],
            "image/png": "[encoded data removed]"
          },
          "metadata": {}
        }
      ]
    },
    {
      "cell_type": "code",
      "source": [
        "from statistics import mean\n",
        "print(mean(text_lengths_in_chars))\n",
        "print(mean(text_lengths_in_words))"
      ],
      "metadata": {
        "colab": {
          "base_uri": "https://localhost:8080/"
        },
        "id": "jaKTtHeHAvvL",
        "outputId": "55868738-8e32-4861-b4b8-9bca55026ed1"
      },
      "execution_count": null,
      "outputs": [
        {
          "output_type": "stream",
          "name": "stdout",
          "text": [
            "10243.875519493371\n",
            "1285.8327066429183\n"
          ]
        }
      ]
    },
    {
      "cell_type": "code",
      "source": [
        "train_pairs = []\n",
        "for example in billsum_train:\n",
        "  orig = example['text']\n",
        "  target = example['summary']\n",
        "  title = example['title']\n",
        "  train_pairs.append({'orig': orig, 'target': target, 'title': title})\n",
        "\n",
        "valid_pairs = []\n",
        "for example in billsum_valid:\n",
        "  orig = example['text']\n",
        "  target = example['summary']\n",
        "  title = example['title']\n",
        "  valid_pairs.append({'orig': orig, 'target': target, 'title': title})\n",
        "\n",
        "test_pairs = []\n",
        "for example in billsum_test:\n",
        "  orig = example['text']\n",
        "  target = example['summary']\n",
        "  title = example['title']\n",
        "  test_pairs.append({'orig': orig, 'target': target, 'title': title})\n",
        "\n",
        "#from pprint import pprint\n",
        "#pprint(train_pairs[:2])\n",
        "#train_pairs[0].keys()"
      ],
      "metadata": {
        "id": "bG7TbI5QEk9g"
      },
      "execution_count": null,
      "outputs": []
    },
    {
      "cell_type": "code",
      "source": [
        "# Save splits to separate csv files, to load only part at a time later\n",
        "train_file = \"drive/MyDrive/266project/billsum_train.csv\"\n",
        "valid_file = \"drive/MyDrive/266project/billsum_valid.csv\"\n",
        "test_file = \"drive/MyDrive/266project/billsum_test.csv\"\n",
        "pd.DataFrame(train_pairs).to_csv(train_file)\n",
        "pd.DataFrame(valid_pairs).to_csv(valid_file)\n",
        "pd.DataFrame(test_pairs).to_csv(test_file, escapechar='\\\\')"
      ],
      "metadata": {
        "id": "UJJ7Nq6sFfyU"
      },
      "execution_count": null,
      "outputs": []
    },
    {
      "cell_type": "code",
      "source": [
        "# test that we can access data\n",
        "train_data = pd.read_csv(\"drive/MyDrive/266project/billsum_train.csv\")\n",
        "valid_data = pd.read_csv(\"drive/MyDrive/266project/billsum_valid.csv\")\n",
        "test_data = pd.read_csv(\"drive/MyDrive/266project/billsum_test.csv\")\n",
        "train_data.drop(columns=['Unnamed: 0'], inplace=True)\n",
        "valid_data.drop(columns=['Unnamed: 0'], inplace=True)\n",
        "test_data.drop(columns=['Unnamed: 0'], inplace=True)\n",
        "\n",
        "train_data.head()"
      ],
      "metadata": {
        "colab": {
          "base_uri": "https://localhost:8080/",
          "height": 337
        },
        "id": "NuNhpk7r4D-J",
        "outputId": "7392becc-ba4f-4d01-99a0-491688664cd0"
      },
      "execution_count": null,
      "outputs": [
        {
          "output_type": "execute_result",
          "data": {
            "text/plain": [
              "                                                orig  \\\n",
              "0  SECTION 1. SHORT TITLE.\\n\\n    This Act may be...   \n",
              "1  SECTION 1. SHORT TITLE.\\n\\n    This Act may be...   \n",
              "2  SECTION 1. SHORT TITLE.\\n\\n    This Act may be...   \n",
              "3  SECTION 1. WAGE DETERMINATION.\\n\\n    (a) Chan...   \n",
              "4  SECTION 1. SHORT TITLE.\\n\\n     This Act may b...   \n",
              "\n",
              "                                              target  \\\n",
              "0  Employee Participation Incentive Act of 1998 -...   \n",
              "1  Pay Back America Act of 2004 - Amends the Inte...   \n",
              "2  Local Job Opportunities and Business Success A...   \n",
              "3  Amends the Immigration and Nationality Act to ...   \n",
              "4  Housing Affordability Assurance Act - Requires...   \n",
              "\n",
              "                                               title  \n",
              "0       Employee Participation Incentive Act of 1998  \n",
              "1  To amend the Internal Revenue Code of 1986 to ...  \n",
              "2  To amend the Workforce Investment Act of 1998 ...  \n",
              "3  To amend the Immigration and Nationality Act t...  \n",
              "4  To require a housing impact analysis of any ne...  "
            ],
            "text/html": [
              "\n",
              "\n",
              "  <div id=\"df-b9694d23-88c7-4fb7-b16c-9d9abda14a78\">\n",
              "    <div class=\"colab-df-container\">\n",
              "      <div>\n",
              "<style scoped>\n",
              "    .dataframe tbody tr th:only-of-type {\n",
              "        vertical-align: middle;\n",
              "    }\n",
              "\n",
              "    .dataframe tbody tr th {\n",
              "        vertical-align: top;\n",
              "    }\n",
              "\n",
              "    .dataframe thead th {\n",
              "        text-align: right;\n",
              "    }\n",
              "</style>\n",
              "<table border=\"1\" class=\"dataframe\">\n",
              "  <thead>\n",
              "    <tr style=\"text-align: right;\">\n",
              "      <th></th>\n",
              "      <th>orig</th>\n",
              "      <th>target</th>\n",
              "      <th>title</th>\n",
              "    </tr>\n",
              "  </thead>\n",
              "  <tbody>\n",
              "    <tr>\n",
              "      <th>0</th>\n",
              "      <td>SECTION 1. SHORT TITLE.\\n\\n    This Act may be...</td>\n",
              "      <td>Employee Participation Incentive Act of 1998 -...</td>\n",
              "      <td>Employee Participation Incentive Act of 1998</td>\n",
              "    </tr>\n",
              "    <tr>\n",
              "      <th>1</th>\n",
              "      <td>SECTION 1. SHORT TITLE.\\n\\n    This Act may be...</td>\n",
              "      <td>Pay Back America Act of 2004 - Amends the Inte...</td>\n",
              "      <td>To amend the Internal Revenue Code of 1986 to ...</td>\n",
              "    </tr>\n",
              "    <tr>\n",
              "      <th>2</th>\n",
              "      <td>SECTION 1. SHORT TITLE.\\n\\n    This Act may be...</td>\n",
              "      <td>Local Job Opportunities and Business Success A...</td>\n",
              "      <td>To amend the Workforce Investment Act of 1998 ...</td>\n",
              "    </tr>\n",
              "    <tr>\n",
              "      <th>3</th>\n",
              "      <td>SECTION 1. WAGE DETERMINATION.\\n\\n    (a) Chan...</td>\n",
              "      <td>Amends the Immigration and Nationality Act to ...</td>\n",
              "      <td>To amend the Immigration and Nationality Act t...</td>\n",
              "    </tr>\n",
              "    <tr>\n",
              "      <th>4</th>\n",
              "      <td>SECTION 1. SHORT TITLE.\\n\\n     This Act may b...</td>\n",
              "      <td>Housing Affordability Assurance Act - Requires...</td>\n",
              "      <td>To require a housing impact analysis of any ne...</td>\n",
              "    </tr>\n",
              "  </tbody>\n",
              "</table>\n",
              "</div>\n",
              "      <button class=\"colab-df-convert\" onclick=\"convertToInteractive('df-b9694d23-88c7-4fb7-b16c-9d9abda14a78')\"\n",
              "              title=\"Convert this dataframe to an interactive table.\"\n",
              "              style=\"display:none;\">\n",
              "\n",
              "  <svg xmlns=\"http://www.w3.org/2000/svg\" height=\"24px\"viewBox=\"0 0 24 24\"\n",
              "       width=\"24px\">\n",
              "    <path d=\"M0 0h24v24H0V0z\" fill=\"none\"/>\n",
              "    <path d=\"M18.56 5.44l.94 2.06.94-2.06 2.06-.94-2.06-.94-.94-2.06-.94 2.06-2.06.94zm-11 1L8.5 8.5l.94-2.06 2.06-.94-2.06-.94L8.5 2.5l-.94 2.06-2.06.94zm10 10l.94 2.06.94-2.06 2.06-.94-2.06-.94-.94-2.06-.94 2.06-2.06.94z\"/><path d=\"M17.41 7.96l-1.37-1.37c-.4-.4-.92-.59-1.43-.59-.52 0-1.04.2-1.43.59L10.3 9.45l-7.72 7.72c-.78.78-.78 2.05 0 2.83L4 21.41c.39.39.9.59 1.41.59.51 0 1.02-.2 1.41-.59l7.78-7.78 2.81-2.81c.8-.78.8-2.07 0-2.86zM5.41 20L4 18.59l7.72-7.72 1.47 1.35L5.41 20z\"/>\n",
              "  </svg>\n",
              "      </button>\n",
              "\n",
              "\n",
              "\n",
              "    <div id=\"df-d6c3b251-e399-4f1f-bd7c-79440402d6a1\">\n",
              "      <button class=\"colab-df-quickchart\" onclick=\"quickchart('df-d6c3b251-e399-4f1f-bd7c-79440402d6a1')\"\n",
              "              title=\"Suggest charts.\"\n",
              "              style=\"display:none;\">\n",
              "\n",
              "<svg xmlns=\"http://www.w3.org/2000/svg\" height=\"24px\"viewBox=\"0 0 24 24\"\n",
              "     width=\"24px\">\n",
              "    <g>\n",
              "        <path d=\"M19 3H5c-1.1 0-2 .9-2 2v14c0 1.1.9 2 2 2h14c1.1 0 2-.9 2-2V5c0-1.1-.9-2-2-2zM9 17H7v-7h2v7zm4 0h-2V7h2v10zm4 0h-2v-4h2v4z\"/>\n",
              "    </g>\n",
              "</svg>\n",
              "      </button>\n",
              "    </div>\n",
              "\n",
              "<style>\n",
              "  .colab-df-quickchart {\n",
              "    background-color: #E8F0FE;\n",
              "    border: none;\n",
              "    border-radius: 50%;\n",
              "    cursor: pointer;\n",
              "    display: none;\n",
              "    fill: #1967D2;\n",
              "    height: 32px;\n",
              "    padding: 0 0 0 0;\n",
              "    width: 32px;\n",
              "  }\n",
              "\n",
              "  .colab-df-quickchart:hover {\n",
              "    background-color: #E2EBFA;\n",
              "    box-shadow: 0px 1px 2px rgba(60, 64, 67, 0.3), 0px 1px 3px 1px rgba(60, 64, 67, 0.15);\n",
              "    fill: #174EA6;\n",
              "  }\n",
              "\n",
              "  [theme=dark] .colab-df-quickchart {\n",
              "    background-color: #3B4455;\n",
              "    fill: #D2E3FC;\n",
              "  }\n",
              "\n",
              "  [theme=dark] .colab-df-quickchart:hover {\n",
              "    background-color: #434B5C;\n",
              "    box-shadow: 0px 1px 3px 1px rgba(0, 0, 0, 0.15);\n",
              "    filter: drop-shadow(0px 1px 2px rgba(0, 0, 0, 0.3));\n",
              "    fill: #FFFFFF;\n",
              "  }\n",
              "</style>\n",
              "\n",
              "    <script>\n",
              "      async function quickchart(key) {\n",
              "        const containerElement = document.querySelector('#' + key);\n",
              "        const charts = await google.colab.kernel.invokeFunction(\n",
              "            'suggestCharts', [key], {});\n",
              "      }\n",
              "    </script>\n",
              "\n",
              "      <script>\n",
              "\n",
              "function displayQuickchartButton(domScope) {\n",
              "  let quickchartButtonEl =\n",
              "    domScope.querySelector('#df-d6c3b251-e399-4f1f-bd7c-79440402d6a1 button.colab-df-quickchart');\n",
              "  quickchartButtonEl.style.display =\n",
              "    google.colab.kernel.accessAllowed ? 'block' : 'none';\n",
              "}\n",
              "\n",
              "        displayQuickchartButton(document);\n",
              "      </script>\n",
              "      <style>\n",
              "    .colab-df-container {\n",
              "      display:flex;\n",
              "      flex-wrap:wrap;\n",
              "      gap: 12px;\n",
              "    }\n",
              "\n",
              "    .colab-df-convert {\n",
              "      background-color: #E8F0FE;\n",
              "      border: none;\n",
              "      border-radius: 50%;\n",
              "      cursor: pointer;\n",
              "      display: none;\n",
              "      fill: #1967D2;\n",
              "      height: 32px;\n",
              "      padding: 0 0 0 0;\n",
              "      width: 32px;\n",
              "    }\n",
              "\n",
              "    .colab-df-convert:hover {\n",
              "      background-color: #E2EBFA;\n",
              "      box-shadow: 0px 1px 2px rgba(60, 64, 67, 0.3), 0px 1px 3px 1px rgba(60, 64, 67, 0.15);\n",
              "      fill: #174EA6;\n",
              "    }\n",
              "\n",
              "    [theme=dark] .colab-df-convert {\n",
              "      background-color: #3B4455;\n",
              "      fill: #D2E3FC;\n",
              "    }\n",
              "\n",
              "    [theme=dark] .colab-df-convert:hover {\n",
              "      background-color: #434B5C;\n",
              "      box-shadow: 0px 1px 3px 1px rgba(0, 0, 0, 0.15);\n",
              "      filter: drop-shadow(0px 1px 2px rgba(0, 0, 0, 0.3));\n",
              "      fill: #FFFFFF;\n",
              "    }\n",
              "  </style>\n",
              "\n",
              "      <script>\n",
              "        const buttonEl =\n",
              "          document.querySelector('#df-b9694d23-88c7-4fb7-b16c-9d9abda14a78 button.colab-df-convert');\n",
              "        buttonEl.style.display =\n",
              "          google.colab.kernel.accessAllowed ? 'block' : 'none';\n",
              "\n",
              "        async function convertToInteractive(key) {\n",
              "          const element = document.querySelector('#df-b9694d23-88c7-4fb7-b16c-9d9abda14a78');\n",
              "          const dataTable =\n",
              "            await google.colab.kernel.invokeFunction('convertToInteractive',\n",
              "                                                     [key], {});\n",
              "          if (!dataTable) return;\n",
              "\n",
              "          const docLinkHtml = 'Like what you see? Visit the ' +\n",
              "            '<a target=\"_blank\" href=https://colab.research.google.com/notebooks/data_table.ipynb>data table notebook</a>'\n",
              "            + ' to learn more about interactive tables.';\n",
              "          element.innerHTML = '';\n",
              "          dataTable['output_type'] = 'display_data';\n",
              "          await google.colab.output.renderOutput(dataTable, element);\n",
              "          const docLink = document.createElement('div');\n",
              "          docLink.innerHTML = docLinkHtml;\n",
              "          element.appendChild(docLink);\n",
              "        }\n",
              "      </script>\n",
              "    </div>\n",
              "  </div>\n"
            ]
          },
          "metadata": {},
          "execution_count": 12
        }
      ]
    },
    {
      "cell_type": "code",
      "source": [],
      "metadata": {
        "id": "5r2dSKlIIhNt"
      },
      "execution_count": null,
      "outputs": []
    }
  ]
}